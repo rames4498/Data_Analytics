{
 "cells": [
  {
   "cell_type": "code",
   "execution_count": 7,
   "metadata": {},
   "outputs": [],
   "source": [
    "import matplotlib.pyplot as plt\n",
    "from matplotlib import cm, gridspec\n",
    "import numpy as np\n",
    "import math\n",
    "from PIL import Image\n",
    "from mpl_toolkits.axes_grid1 import make_axes_locatable\n",
    "\n"
   ]
  },
  {
   "cell_type": "code",
   "execution_count": 8,
   "metadata": {},
   "outputs": [],
   "source": [
    "# set your color array and name of figure here:\n",
    "dial_colors = np.linspace(0, 1, 1000)  # using linspace here as an example\n",
    "figname = 'myDial'\n",
    "\n",
    "# specify which index you want your arrow to point to\n",
    "arrow_index = 750\n",
    "\n",
    "# create labels at desired locations\n",
    "# note that the pie plot ploots from right to left\n",
    "labels = [' '] * len(dial_colors) * 2\n",
    "labels[25] = '100'\n",
    "labels[250] = '75'\n",
    "labels[500] = '50'\n",
    "labels[750] = '25'\n",
    "labels[975] = '0'\n",
    "\n",
    "\n"
   ]
  },
  {
   "cell_type": "code",
   "execution_count": 9,
   "metadata": {},
   "outputs": [
    {
     "data": {
      "image/png": "[encoded data removed]",
      "text/plain": [
       "<Figure size 432x288 with 1 Axes>"
      ]
     },
     "metadata": {
      "needs_background": "light"
     },
     "output_type": "display_data"
    }
   ],
   "source": [
    "# function plotting a colored dial\n",
    "def dial(color_array, arrow_index, labels, ax):\n",
    "    # Create bins to plot (equally sized)\n",
    "    size_of_groups = np.ones(len(color_array) * 2)\n",
    "\n",
    "    # Create a pieplot, half white, half colored by your color array\n",
    "    white_half = np.ones(len(color_array)) * .5\n",
    "    color_half = color_array\n",
    "    color_pallet = np.concatenate([color_half, white_half])\n",
    "\n",
    "    cs = cm.RdYlBu(color_pallet)\n",
    "    pie_wedge_collection = ax.pie(size_of_groups, colors=cs, labels=labels)\n",
    "\n",
    "    i = 0\n",
    "    for pie_wedge in pie_wedge_collection[0]:\n",
    "        pie_wedge.set_edgecolor(cm.RdYlBu(color_pallet[i]))\n",
    "        i = i + 1\n",
    "\n",
    "    # create a white circle to make the pie chart a dial\n",
    "    my_circle = plt.Circle((0, 0), 0.3, color='white')\n",
    "    ax.add_artist(my_circle)\n",
    "\n",
    "    # create the arrow, pointing at specified index\n",
    "    arrow_angle = (arrow_index / float(len(color_array))) * 3.14159\n",
    "    arrow_x = 0.2 * math.cos(arrow_angle)\n",
    "    arrow_y = 0.2 * math.sin(arrow_angle)\n",
    "    ax.arrow(0, 0, -arrow_x, arrow_y, width=.02, head_width=.05, \\\n",
    "             head_length=.1, fc='k', ec='k')\n",
    "\n",
    "\n",
    "# create figure and specify figure name\n",
    "fig, ax = plt.subplots()\n",
    "\n"
   ]
  },
  {
   "cell_type": "code",
   "execution_count": 10,
   "metadata": {},
   "outputs": [
    {
     "data": {
      "text/plain": [
       "<Figure size 432x288 with 0 Axes>"
      ]
     },
     "metadata": {},
     "output_type": "display_data"
    },
    {
     "data": {
      "image/png": "[encoded data removed]",
      "text/plain": [
       "<Figure size 432x288 with 2 Axes>"
      ]
     },
     "metadata": {
      "needs_background": "light"
     },
     "output_type": "display_data"
    }
   ],
   "source": [
    "# make dial plot and save figure\n",
    "dial(dial_colors, arrow_index, labels, ax)\n",
    "ax.set_aspect('equal')\n",
    "plt.savefig(figname + '.png', bbox_inches='tight')\n",
    "\n",
    "# create a figure for the colorbar (crop so only colorbar is saved)\n",
    "fig, ax2 = plt.subplots()\n",
    "cmap = cm.ScalarMappable(cmap='RdYlBu')\n",
    "cmap.set_array([min(dial_colors), max(dial_colors)])\n",
    "cbar = plt.colorbar(cmap, orientation='horizontal')\n",
    "cbar.ax.set_xlabel(\"Risk\")\n",
    "plt.savefig('cbar.png', bbox_inches='tight')\n",
    "cbar = Image.open('cbar.png')\n",
    "c_width, c_height = cbar.size\n",
    "cbar = cbar.crop((0, .8 * c_height, c_width, c_height)).save('cbar.png')\n",
    "\n",
    "# open figure and crop bottom half\n",
    "im = Image.open(figname + '.png')\n",
    "width, height = im.size\n",
    "\n",
    "# crop bottom half of figure\n",
    "# function takes top corner &lt;span                data-mce-type=\"bookmark\"                id=\"mce_SELREST_start\"              data-mce-style=\"overflow:hidden;line-height:0\"              style=\"overflow:hidden;line-height:0\"           &gt;&amp;#65279;&lt;/span&gt;and bottom corner coordinates\n",
    "# of image to keep, (0,0) in python images is the top left corner\n",
    "im = im.crop((0, 0, width + c_width, int(height / 2.0))).save(figname + '.png')"
   ]
  },
  {
   "cell_type": "code",
   "execution_count": null,
   "metadata": {},
   "outputs": [],
   "source": []
  },
  {
   "cell_type": "code",
   "execution_count": null,
   "metadata": {},
   "outputs": [],
   "source": []
  },
  {
   "cell_type": "code",
   "execution_count": null,
   "metadata": {},
   "outputs": [],
   "source": []
  },
  {
   "cell_type": "code",
   "execution_count": null,
   "metadata": {},
   "outputs": [],
   "source": []
  }
 ],
 "metadata": {
  "kernelspec": {
   "display_name": "Python 3",
   "language": "python",
   "name": "python3"
  },
  "language_info": {
   "codemirror_mode": {
    "name": "ipython",
    "version": 3
   },
   "file_extension": ".py",
   "mimetype": "text/x-python",
   "name": "python",
   "nbconvert_exporter": "python",
   "pygments_lexer": "ipython3",
   "version": "3.7.4"
  }
 },
 "nbformat": 4,
 "nbformat_minor": 2
}
